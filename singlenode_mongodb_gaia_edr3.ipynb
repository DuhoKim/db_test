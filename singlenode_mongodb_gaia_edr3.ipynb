{
 "cells": [
  {
   "cell_type": "markdown",
   "metadata": {},
   "source": [
    "# Single Node + MongoDB + [Gaia EDR3](https://www.cosmos.esa.int/web/gaia/earlydr3)\n",
    "\n",
    "### 이 페이지에서는 로컬 머신 즉 Single Node에서 Python을 이용해 MongoDB에 Gaia EDR3 카탈로그를 업로드하고 주어진 좌표와 반경내에서 검색하는데 걸리는 시간을 측정해보도록 하겠습니다.\n",
    "\n",
    "### 다음 코드를 돌린 컴퓨터의 스펙은 다음과 같습니다.\n",
    "<img src=\"my_mac_spec.png\" style=\"width:100px;height:50px\" align=\"left\" />"
   ]
  },
  {
   "cell_type": "code",
   "execution_count": 13,
   "metadata": {},
   "outputs": [
    {
     "data": {
      "text/plain": [
       "'3.7.6 (default, Jan  8 2020, 13:42:34) \\n[Clang 4.0.1 (tags/RELEASE_401/final)]'"
      ]
     },
     "execution_count": 13,
     "metadata": {},
     "output_type": "execute_result"
    }
   ],
   "source": [
    "import sys\n",
    "\n",
    "sys.version"
   ]
  },
  {
   "cell_type": "markdown",
   "metadata": {},
   "source": [
    "* 여기서 사용하는 파이썬의 버젼은 위와 같습니다."
   ]
  },
  {
   "cell_type": "code",
   "execution_count": 8,
   "metadata": {},
   "outputs": [],
   "source": [
    "from astropy.table import Table\n",
    "import json\n",
    "import time\n",
    "import os\n",
    "from astropy_healpix import HEALPix, pixel_resolution_to_nside\n",
    "from astropy.coordinates import ICRS, SkyCoord\n",
    "from astropy import units as u\n",
    "\n",
    "columns = [\n",
    "    'designation', \n",
    "    'ra', \n",
    "    'dec', \n",
    "    'healpix',\n",
    "    'phot_g_mean_flux', \n",
    "    'phot_g_mean_flux_error',\n",
    "    'phot_bp_mean_flux',\n",
    "    'phot_bp_mean_flux_error',\n",
    "    'phot_rp_mean_flux',\n",
    "    'phot_rp_mean_flux_error',\n",
    "    'phot_proc_mode',\n",
    "    'bp_rp',\n",
    "    'bp_g',\n",
    "    'g_rp',\n",
    "    'dr2_radial_velocity',\n",
    "    'dr2_radial_velocity_error',\n",
    "    'dr2_rv_nb_transits',\n",
    "    'dr2_rv_template_teff',\n",
    "    'dr2_rv_template_logg',\n",
    "    'dr2_rv_template_fe_h']\n",
    "\n",
    "def table_single_row_to_dict(table):\n",
    "    \"\"\"Convert Astropy Table to Python dict.\n",
    "\n",
    "    Numpy arrays are converted to lists, so that\n",
    "    the output is JSON serialisable.\n",
    "\n",
    "    Can work with multi-dimensional array columns,\n",
    "    by representing them as list of list.\n",
    "    \"\"\"\n",
    "    total_data = {}\n",
    "    for name in table.colnames:\n",
    "        if name in columns:\n",
    "            if isinstance(table[name], str):\n",
    "                total_data[name] = table[name]\n",
    "            else:\n",
    "                total_data[name] = table[name].tolist()\n",
    "    return total_data\n",
    "    \n",
    "\n",
    "def cone_search(ra, dec, radius, collection, healpix):\n",
    "    # Function to perform a simple cone search against a MongoDB collection\n",
    "    # ra, dec in degrees; radius in arcseconds\n",
    "    \n",
    "    coords = SkyCoord(ra=ra*u.deg, dec=dec*u.deg)\n",
    "    hp_to_search = healpix.cone_search_skycoord(coords, radius=radius * u.arcsec)\n",
    "    cursor = collection.find({'healpix': {'$in': [int(h) for h in hp_to_search]}})\n",
    "    return cursor\n"
   ]
  },
  {
   "cell_type": "markdown",
   "metadata": {},
   "source": [
    "* Astropy Table 포멧을 Python의 Dictionary 포멧으로 변환하는 함수를 정의합니다."
   ]
  },
  {
   "cell_type": "code",
   "execution_count": 6,
   "metadata": {},
   "outputs": [],
   "source": [
    "import pymongo\n",
    "\n",
    "client = pymongo.MongoClient()  # default connection (ie, local)\n",
    "\n",
    "db_name = 'gaia_edr3_test'\n",
    "db = client[db_name]  # database\n",
    "gaia = db.gaia  # collection; can also call as db['dwarfs']\n",
    "gaia.drop()  # drop collection, if needed"
   ]
  },
  {
   "cell_type": "markdown",
   "metadata": {},
   "source": [
    "* 위를 실행하기에 앞서 [MongoDB community edition](https://docs.mongodb.com/manual/installation/#mongodb-community-edition-installation-tutorials)을 인스톨합니다. \n",
    "* 'gaia_edr3_test'이라는 db를 만들었습니다."
   ]
  },
  {
   "cell_type": "code",
   "execution_count": 10,
   "metadata": {},
   "outputs": [
    {
     "name": "stdout",
     "output_type": "stream",
     "text": [
      "CPU times: user 6min 28s, sys: 5.79 s, total: 6min 34s\n",
      "Wall time: 7min 24s\n"
     ]
    }
   ],
   "source": [
    "%%time\n",
    "cat_dir = '/Volumes/APPLE SSD/db/Gaia_EDR3/'\n",
    "for file in os.listdir(cat_dir):\n",
    "    if file.endswith('.csv'):\n",
    "        cat = Table.read(cat_dir + file)\n",
    "        cat.add_column(cat['source_id'], name='healpix')\n",
    "        for i in range(0, len(cat)):\n",
    "            # and 36-63 bits of source_id is the HEALPix index \n",
    "            cat['healpix'][i] = cat['source_id'][i] / 34359738368\n",
    "            json_data = json.loads(json.dumps(table_single_row_to_dict(cat[i])))\n",
    "            result = gaia.insert_one(json_data)"
   ]
  },
  {
   "cell_type": "markdown",
   "metadata": {},
   "source": [
    "* Astropy Table 포멧으로 읽은 카탈로그를 Python Dictionary로 변환한 뒤 다시 JSON 포멧으로 변환해 db로 업로드합니다.\n",
    "* 하나의 gaia_source 카탈로그 (~5x10^5) 를 업로드 하는 데 약 7분이 걸렸습니다. "
   ]
  },
  {
   "cell_type": "code",
   "execution_count": 14,
   "metadata": {},
   "outputs": [
    {
     "name": "stdout",
     "output_type": "stream",
     "text": [
      "Gaia EDR3 515396233856 44.99832707810714 0.0663327072023917\n",
      "Gaia EDR3 828929527040 45.02361979732255 0.06841876724959775\n",
      "Gaia EDR3 927713095040 45.02672698087207 0.08169947826793385\n",
      "Gaia EDR3 966367933184 45.039080477403814 0.08685485276440565\n",
      "Gaia EDR3 1275606125952 44.993270784169155 0.07633404499591856\n",
      "Gaia EDR3 1340029955712 44.96907662980059 0.08442520281043711\n",
      "Gaia EDR3 1340029956224 44.97846156970949 0.09257928817288391\n",
      "Gaia EDR3 1511828647680 44.95265152874727 0.08495205087426602\n",
      "Gaia EDR3 1619203481984 44.95115803041135 0.10531247613400328\n",
      "Gaia EDR3 1653563247744 44.99606230474708 0.08491778897415135\n",
      "Gaia EDR3 1683627775360 45.013788337793514 0.08773432698874072\n",
      "Gaia EDR3 1717987078400 44.98309734471892 0.09640645832988629\n",
      "Gaia EDR3 1752346816896 45.00504137480298 0.10193356019856178\n",
      "Gaia EDR3 1786706818304 45.029202891434686 0.10384332050094827\n",
      "Gaia EDR3 2130304202496 44.98413214856149 0.1276853526886549\n",
      "Gaia EDR3 2546916445184 45.05702843457773 0.11498172278883387\n",
      "Gaia EDR3 3371550165888 45.033604633031075 0.12854885339664812\n",
      "Gaia EDR3 5119601441536 44.99353521012285 0.1490060261817294\n",
      "Gaia EDR3 6597069930752 44.994954112026406 0.1613758449875699\n",
      "Gaia EDR3 515396233856 44.99832707810714 0.0663327072023917\n",
      "Gaia EDR3 828929527040 45.02361979732255 0.06841876724959775\n",
      "Gaia EDR3 927713095040 45.02672698087207 0.08169947826793385\n",
      "Gaia EDR3 966367933184 45.039080477403814 0.08685485276440565\n",
      "Gaia EDR3 1275606125952 44.993270784169155 0.07633404499591856\n",
      "Gaia EDR3 1340029955712 44.96907662980059 0.08442520281043711\n",
      "Gaia EDR3 1340029956224 44.97846156970949 0.09257928817288391\n",
      "Gaia EDR3 1511828647680 44.95265152874727 0.08495205087426602\n",
      "Gaia EDR3 1619203481984 44.95115803041135 0.10531247613400328\n",
      "Gaia EDR3 1653563247744 44.99606230474708 0.08491778897415135\n",
      "Gaia EDR3 1683627775360 45.013788337793514 0.08773432698874072\n",
      "Gaia EDR3 1717987078400 44.98309734471892 0.09640645832988629\n",
      "Gaia EDR3 1752346816896 45.00504137480298 0.10193356019856178\n",
      "Gaia EDR3 1786706818304 45.029202891434686 0.10384332050094827\n",
      "Gaia EDR3 2130304202496 44.98413214856149 0.1276853526886549\n",
      "Gaia EDR3 2546916445184 45.05702843457773 0.11498172278883387\n",
      "Gaia EDR3 3371550165888 45.033604633031075 0.12854885339664812\n",
      "Gaia EDR3 5119601441536 44.99353521012285 0.1490060261817294\n",
      "Gaia EDR3 6597069930752 44.994954112026406 0.1613758449875699\n",
      "CPU times: user 4.61 ms, sys: 1.65 ms, total: 6.27 ms\n",
      "Wall time: 687 ms\n"
     ]
    }
   ],
   "source": [
    "%%time\n",
    "# HEALPix object with that resolution, Gaia's nside is 4096 12 hierarchical subdivision steps\n",
    "# https://gea.esac.esa.int/archive/documentation/GEDR3/Gaia_archive/chap_datamodel/sec_dm_main_tables/ssec_dm_gaia_source.html\n",
    "hp = HEALPix(nside=4096, order='nested', frame=ICRS())\n",
    "\n",
    "# Example use\n",
    "cursor = cone_search(45, 0.1, 180., gaia, hp)\n",
    "for doc in cursor:\n",
    "    print(doc['designation'], doc['ra'], doc['dec'])"
   ]
  },
  {
   "cell_type": "markdown",
   "metadata": {},
   "source": [
    "약 5e5개의 소스 중 ra=45, dec=0.1 을 중심으로 180초 반경내에 들어오는 것들을 찾는데 1초도 걸리지 않았습니다."
   ]
  }
 ],
 "metadata": {
  "kernelspec": {
   "display_name": "Python 3",
   "language": "python",
   "name": "python3"
  },
  "language_info": {
   "codemirror_mode": {
    "name": "ipython",
    "version": 3
   },
   "file_extension": ".py",
   "mimetype": "text/x-python",
   "name": "python",
   "nbconvert_exporter": "python",
   "pygments_lexer": "ipython3",
   "version": "3.7.6"
  }
 },
 "nbformat": 4,
 "nbformat_minor": 4
}
