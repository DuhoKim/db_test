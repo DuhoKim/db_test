{
 "cells": [
  {
   "cell_type": "markdown",
   "metadata": {},
   "source": [
    "# Single Node + MongoDB + [Gaia EDR3](https://www.cosmos.esa.int/web/gaia/earlydr3)\n",
    "\n",
    "### 이 페이지에서는 로컬 머신 즉 Single Node에서 Python을 이용해 MongoDB에 Gaia EDR3 카탈로그를 업로드하고 주어진 좌표와 반경내에서 검색하는데 걸리는 시간을 측정해보도록 하겠습니다.\n",
    "\n",
    "### 다음 코드를 돌린 컴퓨터의 스펙은 다음과 같습니다.\n",
    "<img src=\"my_mac_spec.png\" style=\"width:100px;height:50px\" align=\"left\" />"
   ]
  },
  {
   "cell_type": "code",
   "execution_count": 1,
   "metadata": {},
   "outputs": [
    {
     "data": {
      "text/plain": [
       "'3.7.6 (default, Jan  8 2020, 13:42:34) \\n[Clang 4.0.1 (tags/RELEASE_401/final)]'"
      ]
     },
     "execution_count": 1,
     "metadata": {},
     "output_type": "execute_result"
    }
   ],
   "source": [
    "import sys\n",
    "\n",
    "sys.version"
   ]
  },
  {
   "cell_type": "markdown",
   "metadata": {},
   "source": [
    "* 여기서 사용하는 파이썬의 버젼은 위와 같습니다."
   ]
  },
  {
   "cell_type": "code",
   "execution_count": 2,
   "metadata": {},
   "outputs": [],
   "source": [
    "from astropy.table import Table\n",
    "import json\n",
    "import time\n",
    "import os\n",
    "\n",
    "def table_single_row_to_dict(table):\n",
    "    \"\"\"Convert Astropy Table to Python dict.\n",
    "\n",
    "    Numpy arrays are converted to lists, so that\n",
    "    the output is JSON serialisable.\n",
    "\n",
    "    Can work with multi-dimensional array columns,\n",
    "    by representing them as list of list.\n",
    "    \"\"\"\n",
    "    total_data = {}\n",
    "    for name in table.colnames:\n",
    "        if isinstance(table[name], str):\n",
    "            total_data[name] = table[name]\n",
    "        else:\n",
    "            total_data[name] = table[name].tolist()\n",
    "    return total_data"
   ]
  },
  {
   "cell_type": "markdown",
   "metadata": {},
   "source": [
    "* Astropy Table 포멧을 Python의 Dictionary 포멧으로 변환하는 함수를 정의합니다."
   ]
  },
  {
   "cell_type": "code",
   "execution_count": 3,
   "metadata": {},
   "outputs": [],
   "source": [
    "import pymongo\n",
    "\n",
    "client = pymongo.MongoClient()  # default connection (ie, local)\n",
    "\n",
    "db_name = 'gaia_edr3_test'\n",
    "db = client[db_name]  # database\n",
    "brick = db.brick  # collection; can also call as db['dwarfs']\n",
    "brick.drop()  # drop collection, if needed"
   ]
  },
  {
   "cell_type": "markdown",
   "metadata": {},
   "source": [
    "* 위를 실행하기에 앞서 [MongoDB community edition](https://docs.mongodb.com/manual/installation/#mongodb-community-edition-installation-tutorials)을 인스톨합니다. \n",
    "* 'gaia_edr3_test'이라는 db를 만들었습니다."
   ]
  },
  {
   "cell_type": "code",
   "execution_count": null,
   "metadata": {},
   "outputs": [],
   "source": [
    "%%time\n",
    "cat_dir = '/Volumes/APPLE SSD/db/Gaia_EDR3/'\n",
    "for file in os.listdir(cat_dir):\n",
    "    if file.endswith('.csv'):\n",
    "        cat = Table.read(cat_dir + file)\n",
    "        for i in range(0, len(cat)):\n",
    "            json_data = json.loads(json.dumps(table_single_row_to_dict(cat[i])))\n",
    "            result = brick.insert_one(json_data)"
   ]
  },
  {
   "cell_type": "markdown",
   "metadata": {},
   "source": [
    "* Astropy Table 포멧으로 읽은 카탈로그를 Python Dictionary로 변환한 뒤 다시 JSON 포멧으로 변환해 db로 업로드합니다.\n",
    "* 144개의 brick (~3deg^2)을 업로드 하는 데 약 11분이 걸렸습니다. (다른 작업과 동시에 진행 했을 때 20분 정도도 걸렸습니다.)"
   ]
  },
  {
   "cell_type": "code",
   "execution_count": 11,
   "metadata": {},
   "outputs": [
    {
     "name": "stdout",
     "output_type": "stream",
     "text": [
      "<SkyCoord (ICRS): (ra, dec) in deg\n",
      "    [(44.99038696, 0.00932548)]>\n",
      "9542850888\n",
      "6988\n",
      "[9542850888 9542850889 9542850891 9542850890 9542850847 9542850845\n",
      " 9542850839 9542850882 9542850883 9542850886]\n"
     ]
    }
   ],
   "source": [
    "from astropy_healpix import HEALPix, pixel_resolution_to_nside\n",
    "from astropy.coordinates import ICRS, SkyCoord\n",
    "from astropy import units as u\n",
    "\n",
    "# nside required for chosen resolution\n",
    "resolution = 10 * u.arcsec\n",
    "nside = pixel_resolution_to_nside(resolution, round='up')\n",
    "\n",
    "# HEALPix object with that resolution\n",
    "hp = HEALPix(nside=nside, order='nested', frame=ICRS())\n",
    "\n",
    "# HEALPix to SkyCoord object\n",
    "coords = hp.healpix_to_skycoord([42])\n",
    "print(coords)\n",
    "\n",
    "# SkyCoord object to HEALPix\n",
    "coords = SkyCoord(ra=34*u.deg, dec=-23*u.deg)\n",
    "print(hp.skycoord_to_healpix(coords))\n",
    "\n",
    "# Example cone search\n",
    "coords = SkyCoord(ra=34*u.deg, dec=-23*u.deg)\n",
    "hp_to_search = hp.cone_search_skycoord(coords, radius=5 * u.arcmin)\n",
    "print(len(hp_to_search))\n",
    "print(hp_to_search[0:10])"
   ]
  },
  {
   "cell_type": "code",
   "execution_count": 14,
   "metadata": {},
   "outputs": [],
   "source": [
    "# Loop over those without coords.healpix and set the value\n",
    "cursor = brick.find({'coords.healpix': {'$exists': False}})\n",
    "for doc in cursor:\n",
    "#     print(doc)\n",
    "    coords = SkyCoord(ra=doc['ra']*u.deg, dec=doc['dec']*u.deg)\n",
    "    healpix = int(hp.skycoord_to_healpix(coords))\n",
    "    brick.update_one({'_id': doc['_id']}, {'$set': {'coords.healpix' : healpix}})\n",
    "    \n",
    "# Create an index on the HEALPix values for faster queries\n",
    "if 'healpix' not in brick.index_information():\n",
    "    brick.create_index([('coords.healpix', pymongo.ASCENDING)],\n",
    "                      name='healpix', background=True)\n"
   ]
  }
 ],
 "metadata": {
  "kernelspec": {
   "display_name": "Python 3",
   "language": "python",
   "name": "python3"
  },
  "language_info": {
   "codemirror_mode": {
    "name": "ipython",
    "version": 3
   },
   "file_extension": ".py",
   "mimetype": "text/x-python",
   "name": "python",
   "nbconvert_exporter": "python",
   "pygments_lexer": "ipython3",
   "version": "3.7.6"
  }
 },
 "nbformat": 4,
 "nbformat_minor": 4
}
