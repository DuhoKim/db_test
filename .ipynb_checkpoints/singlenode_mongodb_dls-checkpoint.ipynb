{
 "cells": [
  {
   "cell_type": "code",
   "execution_count": null,
   "metadata": {},
   "outputs": [],
   "source": []
  },
  {
   "cell_type": "code",
   "execution_count": 72,
   "metadata": {},
   "outputs": [
    {
     "data": {
      "text/plain": [
       "'3.7.6 (default, Jan  8 2020, 13:42:34) \\n[Clang 4.0.1 (tags/RELEASE_401/final)]'"
      ]
     },
     "execution_count": 72,
     "metadata": {},
     "output_type": "execute_result"
    }
   ],
   "source": [
    "import sys\n",
    "\n",
    "sys.version"
   ]
  },
  {
   "cell_type": "code",
   "execution_count": 139,
   "metadata": {},
   "outputs": [
    {
     "name": "stdout",
     "output_type": "stream",
     "text": [
      "CPU times: user 126 ms, sys: 3.32 ms, total: 129 ms\n",
      "Wall time: 128 ms\n"
     ]
    }
   ],
   "source": [
    "%%time\n",
    "from astropy.table import Table\n",
    "import json\n",
    "import time\n",
    "\n",
    "def table_single_row_to_dict(table):\n",
    "    \"\"\"Convert Astropy Table to Python dict.\n",
    "\n",
    "    Numpy arrays are converted to lists, so that\n",
    "    the output is JSON serialisable.\n",
    "\n",
    "    Can work with multi-dimensional array columns,\n",
    "    by representing them as list of list.\n",
    "    \"\"\"\n",
    "    total_data = {}\n",
    "    for name in table.colnames:\n",
    "        if isinstance(table[name], str):\n",
    "            total_data[name] = table[name]\n",
    "        else:\n",
    "            total_data[name] = table[name].tolist()\n",
    "    return total_data\n",
    "\n",
    "cat_dir=(\"/Users/duhokim/work/abell/\")\n",
    "data = Table.read(cat_dir + 'cat/legacy/a2670/tractor-3570m090.fits')"
   ]
  },
  {
   "cell_type": "code",
   "execution_count": 81,
   "metadata": {},
   "outputs": [
    {
     "name": "stdout",
     "output_type": "stream",
     "text": [
      "CPU times: user 2.77 ms, sys: 3.84 ms, total: 6.6 ms\n",
      "Wall time: 33.6 ms\n"
     ]
    }
   ],
   "source": [
    "%%time\n",
    "import pymongo\n",
    "\n",
    "client = pymongo.MongoClient()  # default connection (ie, local)\n",
    "\n",
    "db_name = 'legacy-single-brick'\n",
    "db = client[db_name]  # database\n",
    "brick = db.brick  # collection; can also call as db['dwarfs']\n",
    "brick.drop()  # drop collection, if needed"
   ]
  },
  {
   "cell_type": "code",
   "execution_count": 141,
   "metadata": {},
   "outputs": [
    {
     "name": "stdout",
     "output_type": "stream",
     "text": [
      "CPU times: user 3.82 s, sys: 51 ms, total: 3.87 s\n",
      "Wall time: 4.43 s\n"
     ]
    }
   ],
   "source": [
    "%%time\n",
    "for i in range(0, len(data)):\n",
    "    json_data = json.loads(json.dumps(table_single_row_to_dict(data[i])))\n",
    "    result = brick.insert_one(json_data)\n",
    "\n",
    "# Quick check to confirm load\n",
    "cursor = brick.find({'objid': 1000})\n",
    "\n",
    "# for doc in cursor:\n",
    "#     print(doc)"
   ]
  },
  {
   "cell_type": "code",
   "execution_count": null,
   "metadata": {},
   "outputs": [],
   "source": []
  }
 ],
 "metadata": {
  "kernelspec": {
   "display_name": "Python 3",
   "language": "python",
   "name": "python3"
  },
  "language_info": {
   "codemirror_mode": {
    "name": "ipython",
    "version": 3
   },
   "file_extension": ".py",
   "mimetype": "text/x-python",
   "name": "python",
   "nbconvert_exporter": "python",
   "pygments_lexer": "ipython3",
   "version": "3.7.6"
  }
 },
 "nbformat": 4,
 "nbformat_minor": 4
}
