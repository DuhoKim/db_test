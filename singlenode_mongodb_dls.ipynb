{
 "cells": [
  {
   "cell_type": "markdown",
   "metadata": {},
   "source": [
    "# Single Node + MongoDB + [DECaLS](https://www.legacysurvey.org/decamls/)\n",
    "\n",
    "### 이 페이지에서는 로컬 머신 즉 Single Node에서 Python을 이용해 MongoDB에 DECam Legacy Survey 카탈로그를 업로드하고 주어진 좌표와 반경내에서 검색하는데 걸리는 시간을 측정해보도록 하겠습니다.\n",
    "\n",
    "### 다음 코드를 돌린 컴퓨터의 스펙은 다음과 같습니다.\n",
    "<img src=\"my_mac_spec.png\" style=\"width:300px;height:150px\" align=\"left\" />"
   ]
  },
  {
   "cell_type": "code",
   "execution_count": 72,
   "metadata": {},
   "outputs": [
    {
     "data": {
      "text/plain": [
       "'3.7.6 (default, Jan  8 2020, 13:42:34) \\n[Clang 4.0.1 (tags/RELEASE_401/final)]'"
      ]
     },
     "execution_count": 72,
     "metadata": {},
     "output_type": "execute_result"
    }
   ],
   "source": [
    "import sys\n",
    "\n",
    "sys.version"
   ]
  },
  {
   "cell_type": "markdown",
   "metadata": {},
   "source": [
    "* 여기서 사용하는 파이썬의 버젼은 위와 같습니다."
   ]
  },
  {
   "cell_type": "code",
   "execution_count": 9,
   "metadata": {},
   "outputs": [],
   "source": [
    "from astropy.table import Table\n",
    "import json\n",
    "import time\n",
    "import os\n",
    "\n",
    "def table_single_row_to_dict(table):\n",
    "    \"\"\"Convert Astropy Table to Python dict.\n",
    "\n",
    "    Numpy arrays are converted to lists, so that\n",
    "    the output is JSON serialisable.\n",
    "\n",
    "    Can work with multi-dimensional array columns,\n",
    "    by representing them as list of list.\n",
    "    \"\"\"\n",
    "    total_data = {}\n",
    "    for name in table.colnames:\n",
    "        if isinstance(table[name], str):\n",
    "            total_data[name] = table[name]\n",
    "        else:\n",
    "            total_data[name] = table[name].tolist()\n",
    "    return total_data"
   ]
  },
  {
   "cell_type": "markdown",
   "metadata": {},
   "source": [
    "* Astropy Table 포멧을 Python의 Dictionary 포멧으로 변환하는 함수를 정의합니다."
   ]
  },
  {
   "cell_type": "code",
   "execution_count": 3,
   "metadata": {},
   "outputs": [],
   "source": [
    "import pymongo\n",
    "\n",
    "client = pymongo.MongoClient()  # default connection (ie, local)\n",
    "\n",
    "db_name = 'legacy-144-bricks-around-A2670'\n",
    "db = client[db_name]  # database\n",
    "brick = db.brick  # collection; can also call as db['dwarfs']\n",
    "brick.drop()  # drop collection, if needed"
   ]
  },
  {
   "cell_type": "markdown",
   "metadata": {},
   "source": [
    "* 위를 실행하기에 앞서 [MongoDB community edition](https://docs.mongodb.com/manual/installation/#mongodb-community-edition-installation-tutorials)을 인스톨합니다. \n",
    "* 'legacy-144-bricks-around-A2670'이라는 db를 만들었습니다."
   ]
  },
  {
   "cell_type": "code",
   "execution_count": 10,
   "metadata": {},
   "outputs": [
    {
     "name": "stdout",
     "output_type": "stream",
     "text": [
      "CPU times: user 9min 45s, sys: 8.07 s, total: 9min 53s\n",
      "Wall time: 11min 21s\n"
     ]
    }
   ],
   "source": [
    "%%time\n",
    "cat_dir = '/Users/duhokim/work/abell/cat/legacy/a2670/'\n",
    "for file in os.listdir(cat_dir):\n",
    "    if file.endswith('.fits'):\n",
    "        cat = Table.read(cat_dir + file)\n",
    "        for i in range(0, len(cat)):\n",
    "            json_data = json.loads(json.dumps(table_single_row_to_dict(cat[i])))\n",
    "            result = brick.insert_one(json_data)"
   ]
  },
  {
   "cell_type": "markdown",
   "metadata": {},
   "source": [
    "* Astropy Table 포멧으로 읽은 카탈로그를 Python Dictionary로 변환한 뒤 다시 JSON 포멧으로 변환해 db로 업로드합니다.\n",
    "* 144개의 brick (~3deg^2)을 업로드 하는 데 약 11분 21초가 걸렸습니다."
   ]
  },
  {
   "cell_type": "code",
   "execution_count": 6,
   "metadata": {},
   "outputs": [
    {
     "name": "stdout",
     "output_type": "stream",
     "text": [
      "CPU times: user 30 µs, sys: 0 ns, total: 30 µs\n",
      "Wall time: 33.1 µs\n"
     ]
    }
   ],
   "source": [
    "# Quick check to confirm load\n",
    "cursor = brick.find({'objid': 1000})\n",
    "\n",
    "# for doc in cursor:\n",
    "#     print(doc)"
   ]
  },
  {
   "cell_type": "code",
   "execution_count": null,
   "metadata": {},
   "outputs": [],
   "source": []
  }
 ],
 "metadata": {
  "kernelspec": {
   "display_name": "Python 3",
   "language": "python",
   "name": "python3"
  },
  "language_info": {
   "codemirror_mode": {
    "name": "ipython",
    "version": 3
   },
   "file_extension": ".py",
   "mimetype": "text/x-python",
   "name": "python",
   "nbconvert_exporter": "python",
   "pygments_lexer": "ipython3",
   "version": "3.7.6"
  }
 },
 "nbformat": 4,
 "nbformat_minor": 4
}
