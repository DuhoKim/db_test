{
 "cells": [
  {
   "cell_type": "markdown",
   "metadata": {},
   "source": [
    "# mongodb tutorial from \n",
    "https://github.com/dr-rodriguez/BlogTutorials/blob/master/notebooks/DataClass_MongoDB.ipynb"
   ]
  },
  {
   "cell_type": "code",
   "execution_count": 7,
   "metadata": {},
   "outputs": [],
   "source": [
    "import json\n",
    "from dataclasses import dataclass, field\n",
    "\n",
    "@dataclass\n",
    "class Coords:\n",
    "    ra: float\n",
    "    dec: float\n",
    "        \n",
    "@dataclass\n",
    "class Photometry:\n",
    "    value: float\n",
    "    error: float\n",
    "    unit: str = 'mag'\n",
    "        \n",
    "@dataclass\n",
    "class BrownDwarf:\n",
    "    source_id: int\n",
    "    name: str\n",
    "    coords: Coords\n",
    "    J: Photometry = None\n",
    "    H: Photometry = None\n",
    "    Ks: Photometry = None\n",
    "    spectral_type: str = None\n",
    "    name_list: list = field(default_factory=list)\n",
    "        \n",
    "    def to_json(self):\n",
    "        return json.dumps(self.__dict__, default=lambda x:x.__dict__, indent=4)"
   ]
  },
  {
   "cell_type": "code",
   "execution_count": 8,
   "metadata": {},
   "outputs": [
    {
     "name": "stdout",
     "output_type": "stream",
     "text": [
      "BrownDwarf(source_id=11, name='1207-3832', coords=Coords(ra=181.889, dec=-39), J=Photometry(value=12.99, error=0.03, unit='mag'), H=Photometry(value=12.39, error=0.03, unit='mag'), Ks=Photometry(value=11.95, error=0.03, unit='mag'), spectral_type='M8.0', name_list=['TWA 27', '2MASS J1207'])\n"
     ]
    }
   ],
   "source": [
    "c = Coords(ra=181.889, dec=-39)\n",
    "bd = BrownDwarf(source_id=11, name='1207-3832', coords=c,\n",
    "               J = Photometry(12.99, 0.03),\n",
    "               H = Photometry(12.39, 0.03),\n",
    "               Ks = Photometry(11.95, 0.03))\n",
    "bd.name_list = ['TWA 27', '2MASS J1207']\n",
    "bd.spectral_type = 'M8.0'\n",
    "print(bd)"
   ]
  },
  {
   "cell_type": "code",
   "execution_count": 9,
   "metadata": {},
   "outputs": [
    {
     "name": "stdout",
     "output_type": "stream",
     "text": [
      "{\n",
      "    \"source_id\": 11,\n",
      "    \"name\": \"1207-3832\",\n",
      "    \"coords\": {\n",
      "        \"ra\": 181.889,\n",
      "        \"dec\": -39\n",
      "    },\n",
      "    \"J\": {\n",
      "        \"value\": 12.99,\n",
      "        \"error\": 0.03,\n",
      "        \"unit\": \"mag\"\n",
      "    },\n",
      "    \"H\": {\n",
      "        \"value\": 12.39,\n",
      "        \"error\": 0.03,\n",
      "        \"unit\": \"mag\"\n",
      "    },\n",
      "    \"Ks\": {\n",
      "        \"value\": 11.95,\n",
      "        \"error\": 0.03,\n",
      "        \"unit\": \"mag\"\n",
      "    },\n",
      "    \"spectral_type\": \"M8.0\",\n",
      "    \"name_list\": [\n",
      "        \"TWA 27\",\n",
      "        \"2MASS J1207\"\n",
      "    ]\n",
      "}\n"
     ]
    }
   ],
   "source": [
    "print(bd.to_json())"
   ]
  },
  {
   "cell_type": "code",
   "execution_count": 10,
   "metadata": {},
   "outputs": [
    {
     "name": "stdout",
     "output_type": "stream",
     "text": [
      "{'_id': ObjectId('6007d279939a872ec4aaf181'), 'source_id': 11, 'name': '1207-3832', 'coords': {'ra': 181.889, 'dec': -39}, 'J': {'value': 12.99, 'error': 0.03, 'unit': 'mag'}, 'H': {'value': 12.39, 'error': 0.03, 'unit': 'mag'}, 'Ks': {'value': 11.95, 'error': 0.03, 'unit': 'mag'}, 'spectral_type': 'M8.0', 'name_list': ['TWA 27', '2MASS J1207']}\n"
     ]
    }
   ],
   "source": [
    "import pymongo\n",
    "import json\n",
    "\n",
    "client = pymongo.MongoClient()    # default connection (ie, local)\n",
    "\n",
    "db_name = 'test'\n",
    "db = client[db_name]    # database\n",
    "dwarfs = db.dwarfs\n",
    "dwarfs.drop()    # drop collection, if needed\n",
    "\n",
    "json_data = json.loads(bd.to_json())\n",
    "result = dwarfs.insert_one(json_data)\n",
    "\n",
    "# Quick check to confirm load\n",
    "cursor = dwarfs.find({'source_id': 11})\n",
    "for doc in cursor:\n",
    "    print(doc)"
   ]
  },
  {
   "cell_type": "code",
   "execution_count": 11,
   "metadata": {},
   "outputs": [],
   "source": [
    "bddata = \"\"\"#id\tsname\tra\tdec\tsptype\tJ\tJ_err\tH\tH_err\tnames\n",
    "2\t1331-0116\t202.95387\t-1.280556\t16\t15.46\t0.04\t14.47\t0.04\tSDSS J133148.92-011651.4, 2MASS J13314894-0116500\n",
    "4\t1448+1031\t222.106791\t10.533056\t13.5\t14.556\t0.034\t13.433\t0.033\t2MASS J14482563+1031590, 2MASSW J1448256+103159, SDSS J144825.69+103158.8, 2MUCD 20587, ULAS2MASS J1448+1031, 2MASSW J1448256+103159\n",
    "7\t1439+1929\t219.868167\t19.487472\t11\t12.759\t0.019\t12.041\t0.019\t2MASS J14392837+1929150, 2MASSW J1439284+192915\n",
    "14\t2249+0044\t342.472709\t0.734611\t11\t16.587\t0.125\t15.421\t0.109\tSDSSp J224953.45+004404.2, 2M2249+0044\n",
    "15\t2208+2921\t332.05679\t29.355972\t13\t15.797\t0.085\t14.793\t0.071\t2MASSW J2208136+292121, 2MASS J22081363+2921215, 2MASSW J2208136+292121\n",
    "17\t0027+0503\t6.924875\t5.061583\t8\t16.189\t0.093\t15.288\t0.099\t2MASS J00274197+0503417, PC 0025+0447\n",
    "19\t2148+4003\t327.068041\t40.0665\t16\t14.147\t0.029\t12.783\t0.03\t2MASS J21481628+4003593, 2MASS J21481633+4003594, 2MASS J21481633+4003594, 2MASSW J2148162+400359, 2MASS J21481628+4003593\n",
    "20\t1102-3430\t165.54097\t-34.509869\t8.5\t13.034\t0.024\t12.356\t0.022\tTWA 28, 2MASS J11020983-3430355, SSSPM 1102-3431\n",
    "32\t0415-0935\t63.831417\t-9.585167\t28\t15.695\t0.058\t15.537\t0.113\t2MASSI J0415195-093506, 2MASS J04151954-0935066, WISEP J041521.20-093500.6\n",
    "34\t0727+1710\t111.826001\t17.167\t27\t15.6\t0.061\t15.756\t0.171\t2MASSI J0727182+171001, 2MASS J07271824+1710012, WISEP J072719.13+170952.0, LEHPM 2-461\n",
    "36\t0451-3402\t72.753833\t-34.0375\t10.5\t13.541\t0.023\t12.826\t0.023\t2MASSI J0451009-340214, V* SY Cae, 2MASS J04510093-3402150, 2MASSI J0451009-340214\n",
    "53\t1515+4847\t228.753459\t48.794889\t16\t14.111\t0.029\t13.099\t0.031\t2MASSW J1515008+484742, 2MASS J15150083+4847416, SDSS J151500.62+484744.8, 2MUCD 11314\n",
    "61\t1245-4429\t191.309\t-44.485477\t9\t14.518\t0.032\t13.8\t0.033\tTWA 29, 2MASS J12451416-4429077, DENIS J124514.1-442907\n",
    "63\t0334-4953\t53.537667\t-49.893944\t9\t11.376\t0.023\t10.823\t0.026\t2MASS J03341218-4953322, DENIS-P J033411.3-495333, 2MASSI J0334114-495334, LEHPM 3396\n",
    "80\t1552+2948\t238.24591\t29.81342\t10\t13.478\t0.026\t12.606\t0.026\t2MASSW J1552591+294849, 2MASS J15525906+2948485, 2MASSW J1552591+294849, SDSS J155259.01+294848.3\n",
    "82\t1835+3259\t278.90792\t32.998497\t8.5\t10.27\t0.022\t9.617\t0.021\t2MASS J18353790+3259545, LSR J1835+3259\n",
    "83\t1547-2423\t236.94662\t-24.397028\t9\t13.97\t0.029\t13.271\t0.034\t2MASS J15474719-2423493, DENIS J154747.2-242349\n",
    "86\t0036+1821\t9.067376\t18.352889\t13.5\t12.466\t0.027\t11.588\t0.03\t2MASSW J0036159+182110, 2MASS J00361617+1821104\n",
    "91\t0518-2756\t79.692333\t-27.946028\t10\t15.262\t0.043\t14.295\t0.046\t2MASS J05184616-2756457, 2MASS J05184616-2756457, 2MASSI J0518461-275645, 2MUCD 10381\n",
    "96\t0248-1651\t42.170846\t-16.856022\t8\t12.551\t0.022\t11.872\t0.022\tLP 771-21, 2MASS J02484096-1651249, BR 0246-1703, WISEP J024840.95-165124.8\n",
    "98\t0241-0326\t40.297958\t-3.449639\t10\t15.799\t0.065\t14.811\t0.053\t2MASS J02411151-0326587, 2MASS J02411151-0326587, 2MASSI J0241115-032658\"\"\""
   ]
  },
  {
   "cell_type": "code",
   "execution_count": 12,
   "metadata": {},
   "outputs": [],
   "source": [
    "data = []\n",
    "for row in bddata.split('\\n'):\n",
    "    if row.startswith('#'): continue\n",
    "    elems = row.split('\\t')\n",
    "    \n",
    "    # Format the spectral type\n",
    "    spnum = float(elems[4])\n",
    "    if spnum >= 20:\n",
    "        sptype = 'T{:3.1f}'.format(spnum-20)\n",
    "    elif spnum >= 10:\n",
    "        sptype = 'L{:3.1f}'.format(spnum-10)\n",
    "    else:\n",
    "        sptype = 'M{:3.1f}'.format(spnum)\n",
    "        \n",
    "    temp = BrownDwarf(source_id=int(elems[0]),\n",
    "                      name=elems[1], \n",
    "                      coords=Coords(ra=float(elems[2]), dec=float(elems[3])),\n",
    "                      spectral_type=sptype,\n",
    "                      J=Photometry(value=float(elems[5]), error=float(elems[6])),\n",
    "                      H=Photometry(value=float(elems[7]), error=float(elems[8])),\n",
    "                      name_list=elems[9].split(',')\n",
    "                     )\n",
    "    data.append(temp)\n",
    "            "
   ]
  },
  {
   "cell_type": "code",
   "execution_count": 13,
   "metadata": {},
   "outputs": [
    {
     "name": "stdout",
     "output_type": "stream",
     "text": [
      "BrownDwarf(source_id=2, name='1331-0116', coords=Coords(ra=202.95387, dec=-1.280556), J=Photometry(value=15.46, error=0.04, unit='mag'), H=Photometry(value=14.47, error=0.04, unit='mag'), Ks=None, spectral_type='L6.0', name_list=['SDSS J133148.92-011651.4', ' 2MASS J13314894-0116500'])\n",
      "BrownDwarf(source_id=4, name='1448+1031', coords=Coords(ra=222.106791, dec=10.533056), J=Photometry(value=14.556, error=0.034, unit='mag'), H=Photometry(value=13.433, error=0.033, unit='mag'), Ks=None, spectral_type='L3.5', name_list=['2MASS J14482563+1031590', ' 2MASSW J1448256+103159', ' SDSS J144825.69+103158.8', ' 2MUCD 20587', ' ULAS2MASS J1448+1031', ' 2MASSW J1448256+103159'])\n",
      "BrownDwarf(source_id=7, name='1439+1929', coords=Coords(ra=219.868167, dec=19.487472), J=Photometry(value=12.759, error=0.019, unit='mag'), H=Photometry(value=12.041, error=0.019, unit='mag'), Ks=None, spectral_type='L1.0', name_list=['2MASS J14392837+1929150', ' 2MASSW J1439284+192915'])\n",
      "BrownDwarf(source_id=14, name='2249+0044', coords=Coords(ra=342.472709, dec=0.734611), J=Photometry(value=16.587, error=0.125, unit='mag'), H=Photometry(value=15.421, error=0.109, unit='mag'), Ks=None, spectral_type='L1.0', name_list=['SDSSp J224953.45+004404.2', ' 2M2249+0044'])\n",
      "BrownDwarf(source_id=15, name='2208+2921', coords=Coords(ra=332.05679, dec=29.355972), J=Photometry(value=15.797, error=0.085, unit='mag'), H=Photometry(value=14.793, error=0.071, unit='mag'), Ks=None, spectral_type='L3.0', name_list=['2MASSW J2208136+292121', ' 2MASS J22081363+2921215', ' 2MASSW J2208136+292121'])\n"
     ]
    }
   ],
   "source": [
    "for i, row in enumerate(data):\n",
    "    if i>4: break  # only display the first 5\n",
    "    print(row)"
   ]
  },
  {
   "cell_type": "code",
   "execution_count": 14,
   "metadata": {},
   "outputs": [],
   "source": [
    "for row in data:\n",
    "    source_id = row.source_id\n",
    "    json_data = json.loads(row.to_json())\n",
    "    \n",
    "    count = dwarfs.count_documents({'source_id': source_id})\n",
    "    \n",
    "    if count > 0:\n",
    "        # Replace existing\n",
    "        cursor = dwarfs.find({'source_id': source_id})\n",
    "        for doc in cursor:\n",
    "            result = dwarfs.replace_one({'_id': doc['_id']}, json_data)\n",
    "    else:\n",
    "        # Insert new\n",
    "        result = dwarfs.insert_one(json_data)"
   ]
  },
  {
   "cell_type": "code",
   "execution_count": 15,
   "metadata": {},
   "outputs": [
    {
     "name": "stdout",
     "output_type": "stream",
     "text": [
      "Total documents:  22\n",
      "{'_id': ObjectId('6007d279939a872ec4aaf181'), 'source_id': 11, 'name': '1207-3832', 'coords': {'ra': 181.889, 'dec': -39}, 'J': {'value': 12.99, 'error': 0.03, 'unit': 'mag'}, 'H': {'value': 12.39, 'error': 0.03, 'unit': 'mag'}, 'Ks': {'value': 11.95, 'error': 0.03, 'unit': 'mag'}, 'spectral_type': 'M8.0', 'name_list': ['TWA 27', '2MASS J1207']}\n",
      "{'_id': ObjectId('6007d917939a872ec4aaf187'), 'source_id': 17, 'name': '0027+0503', 'coords': {'ra': 6.924875, 'dec': 5.061583}, 'J': {'value': 16.189, 'error': 0.093, 'unit': 'mag'}, 'H': {'value': 15.288, 'error': 0.099, 'unit': 'mag'}, 'Ks': None, 'spectral_type': 'M8.0', 'name_list': ['2MASS J00274197+0503417', ' PC 0025+0447']}\n",
      "{'_id': ObjectId('6007d917939a872ec4aaf195'), 'source_id': 96, 'name': '0248-1651', 'coords': {'ra': 42.170846, 'dec': -16.856022}, 'J': {'value': 12.551, 'error': 0.022, 'unit': 'mag'}, 'H': {'value': 11.872, 'error': 0.022, 'unit': 'mag'}, 'Ks': None, 'spectral_type': 'M8.0', 'name_list': ['LP 771-21', ' 2MASS J02484096-1651249', ' BR 0246-1703', ' WISEP J024840.95-165124.8']}\n"
     ]
    }
   ],
   "source": [
    "count = dwarfs.count_documents({})\n",
    "print('Total documents: ', count)\n",
    "cursor = dwarfs.find({'spectral_type': 'M8.0'})\n",
    "for doc in cursor:\n",
    "    print(doc)"
   ]
  },
  {
   "cell_type": "code",
   "execution_count": 16,
   "metadata": {},
   "outputs": [
    {
     "name": "stdout",
     "output_type": "stream",
     "text": [
      "{'source_id': 11, 'name': '1207-3832', 'spectral_type': 'M8.0'}\n",
      "{'source_id': 17, 'name': '0027+0503', 'spectral_type': 'M8.0'}\n",
      "{'source_id': 96, 'name': '0248-1651', 'spectral_type': 'M8.0'}\n"
     ]
    }
   ],
   "source": [
    "cursor = dwarfs.find({'spectral_type': 'M8.0'}, {'_id':0, 'source_id': 1, 'name': 1, 'spectral_type': 1})\n",
    "for doc in cursor:\n",
    "    print(doc)"
   ]
  },
  {
   "cell_type": "code",
   "execution_count": 17,
   "metadata": {},
   "outputs": [
    {
     "data": {
      "text/plain": [
       "'text_fields'"
      ]
     },
     "execution_count": 17,
     "metadata": {},
     "output_type": "execute_result"
    }
   ],
   "source": [
    "#dwarfs.drop_index('text_fields')\n",
    "dwarfs.create_index([('name', pymongo.TEXT),\n",
    "                    ('name_list', pymongo.TEXT)],\n",
    "                   name = 'text_fields',\n",
    "                   background=True)"
   ]
  },
  {
   "cell_type": "code",
   "execution_count": 18,
   "metadata": {},
   "outputs": [
    {
     "name": "stdout",
     "output_type": "stream",
     "text": [
      "{'name': '1245-4429', 'name_list': ['TWA 29', ' 2MASS J12451416-4429077', ' DENIS J124514.1-442907']}\n",
      "{'name': '1102-3430', 'name_list': ['TWA 28', ' 2MASS J11020983-3430355', ' SSSPM 1102-3431']}\n",
      "{'name': '1207-3832', 'name_list': ['TWA 27', '2MASS J1207']}\n"
     ]
    }
   ],
   "source": [
    "cursor = dwarfs.find({'$text': {'$search': 'TWA'}}, {'_id': 0, 'name': 1, 'name_list': 1})\n",
    "for doc in cursor:\n",
    "    print(doc)"
   ]
  },
  {
   "cell_type": "code",
   "execution_count": 19,
   "metadata": {},
   "outputs": [
    {
     "name": "stdout",
     "output_type": "stream",
     "text": [
      "{'name': '1207-3832', 'name_list': ['TWA 27', '2MASS J1207']}\n",
      "{'name': '2208+2921', 'name_list': ['2MASSW J2208136+292121', ' 2MASS J22081363+2921215', ' 2MASSW J2208136+292121']}\n",
      "{'name': '0727+1710', 'name_list': ['2MASSI J0727182+171001', ' 2MASS J07271824+1710012', ' WISEP J072719.13+170952.0', ' LEHPM 2-461']}\n",
      "{'name': '1245-4429', 'name_list': ['TWA 29', ' 2MASS J12451416-4429077', ' DENIS J124514.1-442907']}\n",
      "{'name': '0334-4953', 'name_list': ['2MASS J03341218-4953322', ' DENIS-P J033411.3-495333', ' 2MASSI J0334114-495334', ' LEHPM 3396']}\n",
      "{'name': '0248-1651', 'name_list': ['LP 771-21', ' 2MASS J02484096-1651249', ' BR 0246-1703', ' WISEP J024840.95-165124.8']}\n"
     ]
    }
   ],
   "source": [
    "cursor = dwarfs.find({'name_list': {'$regex': '12'}}, {'_id': 0, 'name': 1, 'name_list': 1})\n",
    "for doc in cursor:\n",
    "    print(doc)"
   ]
  },
  {
   "cell_type": "code",
   "execution_count": 20,
   "metadata": {},
   "outputs": [
    {
     "name": "stdout",
     "output_type": "stream",
     "text": [
      "{'source_id': 11, 'name': '1207-3832', 'coords': {'ra': 181.889, 'dec': -39}, 'J': {'value': 12.99, 'error': 0.03, 'unit': 'mag'}, 'H': {'value': 12.39, 'error': 0.03, 'unit': 'mag'}, 'Ks': {'value': 11.95, 'error': 0.03, 'unit': 'mag'}, 'spectral_type': 'M8.0', 'name_list': ['TWA 27', '2MASS J1207']}\n"
     ]
    }
   ],
   "source": [
    "cursor = dwarfs.find({'source_id': 11})\n",
    "doc = list(cursor)[0]\n",
    "del doc['_id']\n",
    "print(doc)"
   ]
  },
  {
   "cell_type": "code",
   "execution_count": 21,
   "metadata": {},
   "outputs": [
    {
     "name": "stdout",
     "output_type": "stream",
     "text": [
      "Photometry(value=12.99, error=0.03, unit='mag')\n",
      "Coords(ra=181.889, dec=-39)\n"
     ]
    }
   ],
   "source": [
    "j = Photometry(**doc['J'])\n",
    "h = Photometry(**doc['H'])\n",
    "ks = Photometry(**doc['Ks'])\n",
    "c = Coords(**doc['coords'])\n",
    "print(j)\n",
    "print(c)"
   ]
  },
  {
   "cell_type": "code",
   "execution_count": 22,
   "metadata": {},
   "outputs": [
    {
     "name": "stdout",
     "output_type": "stream",
     "text": [
      "BrownDwarf(source_id=11, name='1207-3832', coords=Coords(ra=181.889, dec=-39), J=Photometry(value=12.99, error=0.03, unit='mag'), H=Photometry(value=12.39, error=0.03, unit='mag'), Ks=Photometry(value=11.95, error=0.03, unit='mag'), spectral_type='M8.0', name_list=['TWA 27', '2MASS J1207'])\n"
     ]
    }
   ],
   "source": [
    "del doc['coords']\n",
    "del doc['J']\n",
    "del doc['H']\n",
    "del doc['Ks']\n",
    "new_bd = BrownDwarf(**doc, coords=c, J=j, H=h, Ks=ks)\n",
    "print(new_bd)"
   ]
  },
  {
   "cell_type": "code",
   "execution_count": 23,
   "metadata": {},
   "outputs": [
    {
     "name": "stdout",
     "output_type": "stream",
     "text": [
      "BrownDwarf(source_id=11, name='1207-3832', coords=Coords(ra=181.889, dec=-39), J=Photometry(value=12.99, error=0.03, unit='mag'), H=Photometry(value=12.39, error=0.03, unit='mag'), Ks=Photometry(value=11.95, error=0.03, unit='mag'), spectral_type='M8.0', name_list=['TWA 27', '2MASS J1207'])\n"
     ]
    }
   ],
   "source": [
    "# Original, for comparison\n",
    "print(bd)"
   ]
  },
  {
   "cell_type": "code",
   "execution_count": 24,
   "metadata": {},
   "outputs": [
    {
     "data": {
      "text/plain": [
       "True"
      ]
     },
     "execution_count": 24,
     "metadata": {},
     "output_type": "execute_result"
    }
   ],
   "source": [
    "bd == new_bd"
   ]
  },
  {
   "cell_type": "code",
   "execution_count": null,
   "metadata": {},
   "outputs": [],
   "source": []
  }
 ],
 "metadata": {
  "kernelspec": {
   "display_name": "Python 3",
   "language": "python",
   "name": "python3"
  },
  "language_info": {
   "codemirror_mode": {
    "name": "ipython",
    "version": 3
   },
   "file_extension": ".py",
   "mimetype": "text/x-python",
   "name": "python",
   "nbconvert_exporter": "python",
   "pygments_lexer": "ipython3",
   "version": "3.7.6"
  }
 },
 "nbformat": 4,
 "nbformat_minor": 4
}
